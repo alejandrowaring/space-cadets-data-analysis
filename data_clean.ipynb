{
 "cells": [
  {
   "cell_type": "code",
   "execution_count": 8,
   "metadata": {},
   "outputs": [],
   "source": [
    "import pandas as pd "
   ]
  },
  {
   "cell_type": "code",
   "execution_count": 9,
   "metadata": {},
   "outputs": [],
   "source": [
    "# Import in CSV files from resources \n",
    "global_space_launches_to_load = \"resources\\global_space_launches.csv\"\n",
    "important_missions_to_load = \"resources\\important_missions.csv\"\n",
    "\n",
    "global_space_launches= pd.read_csv(global_space_launches_to_load)\n",
    "important_missions= pd.read_csv(important_missions_to_load)"
   ]
  },
  {
   "cell_type": "code",
   "execution_count": 10,
   "metadata": {},
   "outputs": [
    {
     "output_type": "execute_result",
     "data": {
      "text/plain": [
       "           Date                                    Mission success  \\\n",
       "0     3/17/1905  Inspired by the writings of Jules Verne, first...   \n",
       "1     3/28/1905  Goddard files for and is subsequently awarded ...   \n",
       "2     3/31/1905  First observation of an extrasolar planet (exo...   \n",
       "3      4/2/1905  Goddard's widely influential paper \"A Method o...   \n",
       "4    12/15/1923  Die Rakete zu den Planetenr�umen (\"By Rocket i...   \n",
       "..          ...                                                ...   \n",
       "172   9/21/2018  First operational rover on asteroid (162173 Ry...   \n",
       "173    1/1/2019  First contact binary explored by spacecraft (4...   \n",
       "174    1/3/2019  First soft landing on the far side of the Moon...   \n",
       "175   4/10/2019  First direct photograph of a black hole and it...   \n",
       "176   5/30/2020  First orbital human spaceflight launched by a ...   \n",
       "\n",
       "    Country/organization             Mission name  \n",
       "0                 Russia   Konstantin Tsiolkovsky  \n",
       "1          United States        Robert H. Goddard  \n",
       "2            Netherlands       Adriaan van Maanen  \n",
       "3          United States        Robert H. Goddard  \n",
       "4                Germany           Hermann Oberth  \n",
       "..                   ...                      ...  \n",
       "172         Japan (JAXA)                Hayabusa2  \n",
       "173           USA (NASA)             New Horizons  \n",
       "174         China (CNSA)                Chang'e 4  \n",
       "175           USA (NASA)  Event Horizon Telescope  \n",
       "176         USA (SpaceX)            SpaceX Demo-2  \n",
       "\n",
       "[177 rows x 4 columns]"
      ],
      "text/html": "<div>\n<style scoped>\n    .dataframe tbody tr th:only-of-type {\n        vertical-align: middle;\n    }\n\n    .dataframe tbody tr th {\n        vertical-align: top;\n    }\n\n    .dataframe thead th {\n        text-align: right;\n    }\n</style>\n<table border=\"1\" class=\"dataframe\">\n  <thead>\n    <tr style=\"text-align: right;\">\n      <th></th>\n      <th>Date</th>\n      <th>Mission success</th>\n      <th>Country/organization</th>\n      <th>Mission name</th>\n    </tr>\n  </thead>\n  <tbody>\n    <tr>\n      <th>0</th>\n      <td>3/17/1905</td>\n      <td>Inspired by the writings of Jules Verne, first...</td>\n      <td>Russia</td>\n      <td>Konstantin Tsiolkovsky</td>\n    </tr>\n    <tr>\n      <th>1</th>\n      <td>3/28/1905</td>\n      <td>Goddard files for and is subsequently awarded ...</td>\n      <td>United States</td>\n      <td>Robert H. Goddard</td>\n    </tr>\n    <tr>\n      <th>2</th>\n      <td>3/31/1905</td>\n      <td>First observation of an extrasolar planet (exo...</td>\n      <td>Netherlands</td>\n      <td>Adriaan van Maanen</td>\n    </tr>\n    <tr>\n      <th>3</th>\n      <td>4/2/1905</td>\n      <td>Goddard's widely influential paper \"A Method o...</td>\n      <td>United States</td>\n      <td>Robert H. Goddard</td>\n    </tr>\n    <tr>\n      <th>4</th>\n      <td>12/15/1923</td>\n      <td>Die Rakete zu den Planetenr�umen (\"By Rocket i...</td>\n      <td>Germany</td>\n      <td>Hermann Oberth</td>\n    </tr>\n    <tr>\n      <th>...</th>\n      <td>...</td>\n      <td>...</td>\n      <td>...</td>\n      <td>...</td>\n    </tr>\n    <tr>\n      <th>172</th>\n      <td>9/21/2018</td>\n      <td>First operational rover on asteroid (162173 Ry...</td>\n      <td>Japan (JAXA)</td>\n      <td>Hayabusa2</td>\n    </tr>\n    <tr>\n      <th>173</th>\n      <td>1/1/2019</td>\n      <td>First contact binary explored by spacecraft (4...</td>\n      <td>USA (NASA)</td>\n      <td>New Horizons</td>\n    </tr>\n    <tr>\n      <th>174</th>\n      <td>1/3/2019</td>\n      <td>First soft landing on the far side of the Moon...</td>\n      <td>China (CNSA)</td>\n      <td>Chang'e 4</td>\n    </tr>\n    <tr>\n      <th>175</th>\n      <td>4/10/2019</td>\n      <td>First direct photograph of a black hole and it...</td>\n      <td>USA (NASA)</td>\n      <td>Event Horizon Telescope</td>\n    </tr>\n    <tr>\n      <th>176</th>\n      <td>5/30/2020</td>\n      <td>First orbital human spaceflight launched by a ...</td>\n      <td>USA (SpaceX)</td>\n      <td>SpaceX Demo-2</td>\n    </tr>\n  </tbody>\n</table>\n<p>177 rows × 4 columns</p>\n</div>"
     },
     "metadata": {},
     "execution_count": 10
    }
   ],
   "source": [
    "important_missions"
   ]
  },
  {
   "cell_type": "code",
   "execution_count": null,
   "metadata": {},
   "outputs": [],
   "source": []
  }
 ],
 "metadata": {
  "anaconda-cloud": {},
  "kernel_info": {
   "name": "python3"
  },
  "kernelspec": {
   "name": "python3",
   "display_name": "Python 3.8.5 64-bit ('base': conda)"
  },
  "language_info": {
   "codemirror_mode": {
    "name": "ipython",
    "version": 3
   },
   "file_extension": ".py",
   "mimetype": "text/x-python",
   "name": "python",
   "nbconvert_exporter": "python",
   "pygments_lexer": "ipython3",
   "version": "3.8.5"
  },
  "latex_envs": {
   "LaTeX_envs_menu_present": true,
   "autoclose": false,
   "autocomplete": true,
   "bibliofile": "biblio.bib",
   "cite_by": "apalike",
   "current_citInitial": 1,
   "eqLabelWithNumbers": true,
   "eqNumInitial": 1,
   "hotkeys": {
    "equation": "Ctrl-E",
    "itemize": "Ctrl-I"
   },
   "labels_anchors": false,
   "latex_user_defs": false,
   "report_style_numbering": false,
   "user_envs_cfg": false
  },
  "nteract": {
   "version": "0.8.4"
  },
  "interpreter": {
   "hash": "44f552b7dcb52bdbe1465ff40af8423e5e341aff9e1890574e0400d00cd728be"
  }
 },
 "nbformat": 4,
 "nbformat_minor": 1
}