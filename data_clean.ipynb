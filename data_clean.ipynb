{
 "cells": [
  {
   "cell_type": "code",
   "execution_count": 8,
   "metadata": {},
   "outputs": [],
   "source": [
    "import pandas as pd "
   ]
  },
  {
   "cell_type": "code",
   "execution_count": 11,
   "metadata": {},
   "outputs": [],
   "source": [
    "# Import in CSV files from resources \n",
    "global_space_launches_to_load = \"resources\\global_space_launches.csv\"\n",
    "important_missions_to_load = \"resources\\important_missions.csv\"\n",
    "cost_data_to_load = \"resources\\COST_DATA.csv\"\n",
    "\n",
    "global_space_launches= pd.read_csv(global_space_launches_to_load)\n",
    "important_missions= pd.read_csv(important_missions_to_load)\n",
    "cost_data = pd.read_csv(cost_data_to_load)"
   ]
  },
  {
   "cell_type": "code",
   "execution_count": 12,
   "metadata": {},
   "outputs": [
    {
     "output_type": "execute_result",
     "data": {
      "text/plain": [
       "           Date                                    Mission success  \\\n",
       "0     3/17/1905  Inspired by the writings of Jules Verne, first...   \n",
       "1     3/28/1905  Goddard files for and is subsequently awarded ...   \n",
       "2     3/31/1905  First observation of an extrasolar planet (exo...   \n",
       "3      4/2/1905  Goddard's widely influential paper \"A Method o...   \n",
       "4    12/15/1923  Die Rakete zu den Planetenr�umen (\"By Rocket i...   \n",
       "..          ...                                                ...   \n",
       "172   9/21/2018  First operational rover on asteroid (162173 Ry...   \n",
       "173    1/1/2019  First contact binary explored by spacecraft (4...   \n",
       "174    1/3/2019  First soft landing on the far side of the Moon...   \n",
       "175   4/10/2019  First direct photograph of a black hole and it...   \n",
       "176   5/30/2020  First orbital human spaceflight launched by a ...   \n",
       "\n",
       "    Country/organization             Mission name  \n",
       "0                 Russia   Konstantin Tsiolkovsky  \n",
       "1          United States        Robert H. Goddard  \n",
       "2            Netherlands       Adriaan van Maanen  \n",
       "3          United States        Robert H. Goddard  \n",
       "4                Germany           Hermann Oberth  \n",
       "..                   ...                      ...  \n",
       "172         Japan (JAXA)                Hayabusa2  \n",
       "173           USA (NASA)             New Horizons  \n",
       "174         China (CNSA)                Chang'e 4  \n",
       "175           USA (NASA)  Event Horizon Telescope  \n",
       "176         USA (SpaceX)            SpaceX Demo-2  \n",
       "\n",
       "[177 rows x 4 columns]"
      ],
      "text/html": "<div>\n<style scoped>\n    .dataframe tbody tr th:only-of-type {\n        vertical-align: middle;\n    }\n\n    .dataframe tbody tr th {\n        vertical-align: top;\n    }\n\n    .dataframe thead th {\n        text-align: right;\n    }\n</style>\n<table border=\"1\" class=\"dataframe\">\n  <thead>\n    <tr style=\"text-align: right;\">\n      <th></th>\n      <th>Date</th>\n      <th>Mission success</th>\n      <th>Country/organization</th>\n      <th>Mission name</th>\n    </tr>\n  </thead>\n  <tbody>\n    <tr>\n      <th>0</th>\n      <td>3/17/1905</td>\n      <td>Inspired by the writings of Jules Verne, first...</td>\n      <td>Russia</td>\n      <td>Konstantin Tsiolkovsky</td>\n    </tr>\n    <tr>\n      <th>1</th>\n      <td>3/28/1905</td>\n      <td>Goddard files for and is subsequently awarded ...</td>\n      <td>United States</td>\n      <td>Robert H. Goddard</td>\n    </tr>\n    <tr>\n      <th>2</th>\n      <td>3/31/1905</td>\n      <td>First observation of an extrasolar planet (exo...</td>\n      <td>Netherlands</td>\n      <td>Adriaan van Maanen</td>\n    </tr>\n    <tr>\n      <th>3</th>\n      <td>4/2/1905</td>\n      <td>Goddard's widely influential paper \"A Method o...</td>\n      <td>United States</td>\n      <td>Robert H. Goddard</td>\n    </tr>\n    <tr>\n      <th>4</th>\n      <td>12/15/1923</td>\n      <td>Die Rakete zu den Planetenr�umen (\"By Rocket i...</td>\n      <td>Germany</td>\n      <td>Hermann Oberth</td>\n    </tr>\n    <tr>\n      <th>...</th>\n      <td>...</td>\n      <td>...</td>\n      <td>...</td>\n      <td>...</td>\n    </tr>\n    <tr>\n      <th>172</th>\n      <td>9/21/2018</td>\n      <td>First operational rover on asteroid (162173 Ry...</td>\n      <td>Japan (JAXA)</td>\n      <td>Hayabusa2</td>\n    </tr>\n    <tr>\n      <th>173</th>\n      <td>1/1/2019</td>\n      <td>First contact binary explored by spacecraft (4...</td>\n      <td>USA (NASA)</td>\n      <td>New Horizons</td>\n    </tr>\n    <tr>\n      <th>174</th>\n      <td>1/3/2019</td>\n      <td>First soft landing on the far side of the Moon...</td>\n      <td>China (CNSA)</td>\n      <td>Chang'e 4</td>\n    </tr>\n    <tr>\n      <th>175</th>\n      <td>4/10/2019</td>\n      <td>First direct photograph of a black hole and it...</td>\n      <td>USA (NASA)</td>\n      <td>Event Horizon Telescope</td>\n    </tr>\n    <tr>\n      <th>176</th>\n      <td>5/30/2020</td>\n      <td>First orbital human spaceflight launched by a ...</td>\n      <td>USA (SpaceX)</td>\n      <td>SpaceX Demo-2</td>\n    </tr>\n  </tbody>\n</table>\n<p>177 rows × 4 columns</p>\n</div>"
     },
     "metadata": {},
     "execution_count": 12
    }
   ],
   "source": [
    "important_missions"
   ]
  },
  {
   "cell_type": "code",
   "execution_count": 7,
   "metadata": {},
   "outputs": [
    {
     "output_type": "execute_result",
     "data": {
      "text/plain": [
       "     Company Name                                           Location  \\\n",
       "0          SpaceX         LC-39A, Kennedy Space Center, Florida, USA   \n",
       "1           CASIC  Site 9401 (SLS-2), Jiuquan Satellite Launch Ce...   \n",
       "2          SpaceX                      Pad A, Boca Chica, Texas, USA   \n",
       "3       Roscosmos       Site 200/39, Baikonur Cosmodrome, Kazakhstan   \n",
       "4             ULA           SLC-41, Cape Canaveral AFS, Florida, USA   \n",
       "...           ...                                                ...   \n",
       "4319      US Navy           LC-18A, Cape Canaveral AFS, Florida, USA   \n",
       "4320         AMBA           LC-26A, Cape Canaveral AFS, Florida, USA   \n",
       "4321      US Navy           LC-18A, Cape Canaveral AFS, Florida, USA   \n",
       "4322    RVSN USSR          Site 1/5, Baikonur Cosmodrome, Kazakhstan   \n",
       "4323    RVSN USSR          Site 1/5, Baikonur Cosmodrome, Kazakhstan   \n",
       "\n",
       "                                            Detail  Status Rocket  Rocket  \\\n",
       "0     Falcon 9 Block 5 | Starlink V1 L9 & BlackSky   StatusActive   50.0    \n",
       "1              Long March 2D | Gaofen-9 04 & Q-SAT   StatusActive  29.75    \n",
       "2               Starship Prototype | 150 Meter Hop   StatusActive     NaN   \n",
       "3     Proton-M/Briz-M | Ekspress-80 & Ekspress-103   StatusActive   65.0    \n",
       "4                       Atlas V 541 | Perseverance   StatusActive  145.0    \n",
       "...                                            ...            ...     ...   \n",
       "4319                     Vanguard | Vanguard TV3BU  StatusRetired     NaN   \n",
       "4320                           Juno I | Explorer 1  StatusRetired     NaN   \n",
       "4321                       Vanguard | Vanguard TV3  StatusRetired     NaN   \n",
       "4322                    Sputnik 8K71PS | Sputnik-2  StatusRetired     NaN   \n",
       "4323                    Sputnik 8K71PS | Sputnik-1  StatusRetired     NaN   \n",
       "\n",
       "     Status Mission Country of Launch Companys Country of Origin  \\\n",
       "0           Success               USA                        USA   \n",
       "1           Success             China                      China   \n",
       "2           Success               USA                        USA   \n",
       "3           Success        Kazakhstan                     Russia   \n",
       "4           Success               USA                        USA   \n",
       "...             ...               ...                        ...   \n",
       "4319        Failure               USA                        USA   \n",
       "4320        Success               USA                        USA   \n",
       "4321        Failure               USA                        USA   \n",
       "4322        Success        Kazakhstan                     Russia   \n",
       "4323        Success        Kazakhstan                     Russia   \n",
       "\n",
       "     Private or State Run                   DateTime  Year  Month  Day  \\\n",
       "0                       P  2020-08-07 05:12:00+00:00  2020      8    7   \n",
       "1                       S  2020-08-06 04:01:00+00:00  2020      8    6   \n",
       "2                       P  2020-08-04 23:57:00+00:00  2020      8    4   \n",
       "3                       S  2020-07-30 21:25:00+00:00  2020      7   30   \n",
       "4                       P  2020-07-30 11:50:00+00:00  2020      7   30   \n",
       "...                   ...                        ...   ...    ...  ...   \n",
       "4319                    S  1958-02-05 07:33:00+00:00  1958      2    5   \n",
       "4320                    S  1958-02-01 03:48:00+00:00  1958      2    1   \n",
       "4321                    S  1957-12-06 16:44:00+00:00  1957     12    6   \n",
       "4322                    S  1957-11-03 02:30:00+00:00  1957     11    3   \n",
       "4323                    S  1957-10-04 19:28:00+00:00  1957     10    4   \n",
       "\n",
       "            Date   Time  \n",
       "0     07/08/2020  05:12  \n",
       "1     06/08/2020  04:01  \n",
       "2     04/08/2020  23:57  \n",
       "3     30/07/2020  21:25  \n",
       "4     30/07/2020  11:50  \n",
       "...          ...    ...  \n",
       "4319  05/02/1958  07:33  \n",
       "4320  01/02/1958  03:48  \n",
       "4321  06/12/1957  16:44  \n",
       "4322  03/11/1957  02:30  \n",
       "4323  04/10/1957  19:28  \n",
       "\n",
       "[4324 rows x 15 columns]"
      ],
      "text/html": "<div>\n<style scoped>\n    .dataframe tbody tr th:only-of-type {\n        vertical-align: middle;\n    }\n\n    .dataframe tbody tr th {\n        vertical-align: top;\n    }\n\n    .dataframe thead th {\n        text-align: right;\n    }\n</style>\n<table border=\"1\" class=\"dataframe\">\n  <thead>\n    <tr style=\"text-align: right;\">\n      <th></th>\n      <th>Company Name</th>\n      <th>Location</th>\n      <th>Detail</th>\n      <th>Status Rocket</th>\n      <th>Rocket</th>\n      <th>Status Mission</th>\n      <th>Country of Launch</th>\n      <th>Companys Country of Origin</th>\n      <th>Private or State Run</th>\n      <th>DateTime</th>\n      <th>Year</th>\n      <th>Month</th>\n      <th>Day</th>\n      <th>Date</th>\n      <th>Time</th>\n    </tr>\n  </thead>\n  <tbody>\n    <tr>\n      <th>0</th>\n      <td>SpaceX</td>\n      <td>LC-39A, Kennedy Space Center, Florida, USA</td>\n      <td>Falcon 9 Block 5 | Starlink V1 L9 &amp; BlackSky</td>\n      <td>StatusActive</td>\n      <td>50.0</td>\n      <td>Success</td>\n      <td>USA</td>\n      <td>USA</td>\n      <td>P</td>\n      <td>2020-08-07 05:12:00+00:00</td>\n      <td>2020</td>\n      <td>8</td>\n      <td>7</td>\n      <td>07/08/2020</td>\n      <td>05:12</td>\n    </tr>\n    <tr>\n      <th>1</th>\n      <td>CASIC</td>\n      <td>Site 9401 (SLS-2), Jiuquan Satellite Launch Ce...</td>\n      <td>Long March 2D | Gaofen-9 04 &amp; Q-SAT</td>\n      <td>StatusActive</td>\n      <td>29.75</td>\n      <td>Success</td>\n      <td>China</td>\n      <td>China</td>\n      <td>S</td>\n      <td>2020-08-06 04:01:00+00:00</td>\n      <td>2020</td>\n      <td>8</td>\n      <td>6</td>\n      <td>06/08/2020</td>\n      <td>04:01</td>\n    </tr>\n    <tr>\n      <th>2</th>\n      <td>SpaceX</td>\n      <td>Pad A, Boca Chica, Texas, USA</td>\n      <td>Starship Prototype | 150 Meter Hop</td>\n      <td>StatusActive</td>\n      <td>NaN</td>\n      <td>Success</td>\n      <td>USA</td>\n      <td>USA</td>\n      <td>P</td>\n      <td>2020-08-04 23:57:00+00:00</td>\n      <td>2020</td>\n      <td>8</td>\n      <td>4</td>\n      <td>04/08/2020</td>\n      <td>23:57</td>\n    </tr>\n    <tr>\n      <th>3</th>\n      <td>Roscosmos</td>\n      <td>Site 200/39, Baikonur Cosmodrome, Kazakhstan</td>\n      <td>Proton-M/Briz-M | Ekspress-80 &amp; Ekspress-103</td>\n      <td>StatusActive</td>\n      <td>65.0</td>\n      <td>Success</td>\n      <td>Kazakhstan</td>\n      <td>Russia</td>\n      <td>S</td>\n      <td>2020-07-30 21:25:00+00:00</td>\n      <td>2020</td>\n      <td>7</td>\n      <td>30</td>\n      <td>30/07/2020</td>\n      <td>21:25</td>\n    </tr>\n    <tr>\n      <th>4</th>\n      <td>ULA</td>\n      <td>SLC-41, Cape Canaveral AFS, Florida, USA</td>\n      <td>Atlas V 541 | Perseverance</td>\n      <td>StatusActive</td>\n      <td>145.0</td>\n      <td>Success</td>\n      <td>USA</td>\n      <td>USA</td>\n      <td>P</td>\n      <td>2020-07-30 11:50:00+00:00</td>\n      <td>2020</td>\n      <td>7</td>\n      <td>30</td>\n      <td>30/07/2020</td>\n      <td>11:50</td>\n    </tr>\n    <tr>\n      <th>...</th>\n      <td>...</td>\n      <td>...</td>\n      <td>...</td>\n      <td>...</td>\n      <td>...</td>\n      <td>...</td>\n      <td>...</td>\n      <td>...</td>\n      <td>...</td>\n      <td>...</td>\n      <td>...</td>\n      <td>...</td>\n      <td>...</td>\n      <td>...</td>\n      <td>...</td>\n    </tr>\n    <tr>\n      <th>4319</th>\n      <td>US Navy</td>\n      <td>LC-18A, Cape Canaveral AFS, Florida, USA</td>\n      <td>Vanguard | Vanguard TV3BU</td>\n      <td>StatusRetired</td>\n      <td>NaN</td>\n      <td>Failure</td>\n      <td>USA</td>\n      <td>USA</td>\n      <td>S</td>\n      <td>1958-02-05 07:33:00+00:00</td>\n      <td>1958</td>\n      <td>2</td>\n      <td>5</td>\n      <td>05/02/1958</td>\n      <td>07:33</td>\n    </tr>\n    <tr>\n      <th>4320</th>\n      <td>AMBA</td>\n      <td>LC-26A, Cape Canaveral AFS, Florida, USA</td>\n      <td>Juno I | Explorer 1</td>\n      <td>StatusRetired</td>\n      <td>NaN</td>\n      <td>Success</td>\n      <td>USA</td>\n      <td>USA</td>\n      <td>S</td>\n      <td>1958-02-01 03:48:00+00:00</td>\n      <td>1958</td>\n      <td>2</td>\n      <td>1</td>\n      <td>01/02/1958</td>\n      <td>03:48</td>\n    </tr>\n    <tr>\n      <th>4321</th>\n      <td>US Navy</td>\n      <td>LC-18A, Cape Canaveral AFS, Florida, USA</td>\n      <td>Vanguard | Vanguard TV3</td>\n      <td>StatusRetired</td>\n      <td>NaN</td>\n      <td>Failure</td>\n      <td>USA</td>\n      <td>USA</td>\n      <td>S</td>\n      <td>1957-12-06 16:44:00+00:00</td>\n      <td>1957</td>\n      <td>12</td>\n      <td>6</td>\n      <td>06/12/1957</td>\n      <td>16:44</td>\n    </tr>\n    <tr>\n      <th>4322</th>\n      <td>RVSN USSR</td>\n      <td>Site 1/5, Baikonur Cosmodrome, Kazakhstan</td>\n      <td>Sputnik 8K71PS | Sputnik-2</td>\n      <td>StatusRetired</td>\n      <td>NaN</td>\n      <td>Success</td>\n      <td>Kazakhstan</td>\n      <td>Russia</td>\n      <td>S</td>\n      <td>1957-11-03 02:30:00+00:00</td>\n      <td>1957</td>\n      <td>11</td>\n      <td>3</td>\n      <td>03/11/1957</td>\n      <td>02:30</td>\n    </tr>\n    <tr>\n      <th>4323</th>\n      <td>RVSN USSR</td>\n      <td>Site 1/5, Baikonur Cosmodrome, Kazakhstan</td>\n      <td>Sputnik 8K71PS | Sputnik-1</td>\n      <td>StatusRetired</td>\n      <td>NaN</td>\n      <td>Success</td>\n      <td>Kazakhstan</td>\n      <td>Russia</td>\n      <td>S</td>\n      <td>1957-10-04 19:28:00+00:00</td>\n      <td>1957</td>\n      <td>10</td>\n      <td>4</td>\n      <td>04/10/1957</td>\n      <td>19:28</td>\n    </tr>\n  </tbody>\n</table>\n<p>4324 rows × 15 columns</p>\n</div>"
     },
     "metadata": {},
     "execution_count": 7
    }
   ],
   "source": [
    "global_space_launches"
   ]
  },
  {
   "cell_type": "code",
   "execution_count": 13,
   "metadata": {},
   "outputs": [
    {
     "output_type": "execute_result",
     "data": {
      "text/plain": [
       "       Vehicle                Operator  Year of First Launch  \\\n",
       "0        Antares           Orbital ATK                2013.0   \n",
       "1       Atlas V          ULA and LMCLS                2002.0   \n",
       "2       Electron            Rocket Lab                2017.0   \n",
       "3       Falcon 9                SpaceX                2010.0   \n",
       "4     Minotaur-C           Orbital ATK                2017.0   \n",
       "5    Pegasus XL            Orbital ATK                1994.0   \n",
       "6          Aplha     Firefly Aerospace                   NaN   \n",
       "7         Cab-3A               CubeCeb                2017.0   \n",
       "8   Falcon-Heavy                SpaceX                2017.0   \n",
       "9    LauncherOne          Virgin Orbit                2017.0   \n",
       "10     New Glenn           Blue Origin                2020.0   \n",
       "11           NGL           Orbital ATK                2021.0   \n",
       "12  Stratolaunch  Stratolaunch Systems                2018.0   \n",
       "13    Vector R/H  Vector Space Systems                2017.0   \n",
       "14        Vulcan                   ULA                2019.0   \n",
       "\n",
       "    Total 2017 Launches       Active Launch Sites  \\\n",
       "0                   1.0                      MARS   \n",
       "1                   6.0                CCAFS-VAFB   \n",
       "2                   1.0           PSCA MAHIA . NZ   \n",
       "3                  18.0            CCAFS-VAFB-KSC   \n",
       "4                   1.0       CCAFS-MARS-VAFB-WFF   \n",
       "5                   0.0  CCAFS-KWAJALEIN-VAFB-WFF   \n",
       "6                   NaN                       NaN   \n",
       "7                   NaN                       NaN   \n",
       "8                   NaN                  KSC VAFB   \n",
       "9                   NaN         Spaceport America   \n",
       "10                  NaN                     CCAFS   \n",
       "11                  NaN                 KSC, VAFB   \n",
       "12                  NaN                Mojave KSC   \n",
       "13                  NaN                CCAFS PSCA   \n",
       "14                  NaN                CCAFS VAFB   \n",
       "\n",
       "             Mass to LEO kg (lb)           Mass to SSO kg (lb)  \\\n",
       "0     3,500-7,000 (7,716-15,432)     2,100-3,400 (4,630-7,496)   \n",
       "1   8,123-18,814 (17,908-41,478)  6,424-15,179 (14,163-33,464)   \n",
       "2                      150 (331)                           NaN   \n",
       "3                13,150 (28,991)                           NaN   \n",
       "4      1,278-1,458 (2,814-3,214)       912-1,054 (2,008-2,324)   \n",
       "5                      450 (992)                     325 (717)   \n",
       "6                  1,000 (2,205)                   650 (1,433)   \n",
       "7                         5 (11)                           NaN   \n",
       "8               63,800 (140,660)                           NaN   \n",
       "9                    500 (1,102)                     300 (661)   \n",
       "10               45,000 (99,208)                           NaN   \n",
       "11                           NaN                           NaN   \n",
       "12                 3,000 (6,614)                 1,400 (3,086)   \n",
       "13             60-110 (132-243)                 40-75 (88-165)   \n",
       "14  9,370-18,510 (20,657-40,510)  7,724-15,179 (17,029-33,464)   \n",
       "\n",
       "               Mass to GTO kg (lb)    Est Min Prce   Estimated Price per  \n",
       "0                             N/A    $80,000,000.00          $85,000,000  \n",
       "1       3,460-8,900 (7,620-19,620)  $110,000,000.00         $230,000,000  \n",
       "2                            $4.9M  $164,000,000.00         $400,000,000  \n",
       "3                   4,850 (10,692)      $61,200,000                  NaN  \n",
       "4                             N/A    $40,000,000.00          $50,000,000  \n",
       "5                             N/A       $40,000,000                  NaN  \n",
       "6                             N/A       $10,000,000                  NaN  \n",
       "7                             N/A          $250,000                  NaN  \n",
       "8                  26,700 (58,860)     $270,000,000                  NaN  \n",
       "9                             N/A       $10,000,000                  NaN  \n",
       "10                 13,000 (28,660)              NaN                  NaN  \n",
       "11                  8,500 (18,739)              NaN                  NaN  \n",
       "12                            N/A               NaN                  NaN  \n",
       "13                            N/A        $3,000,000                  NaN  \n",
       "14  4,750-8,900 (10,472- 19,621) $   $85,000,000.00         $172,500,000  "
      ],
      "text/html": "<div>\n<style scoped>\n    .dataframe tbody tr th:only-of-type {\n        vertical-align: middle;\n    }\n\n    .dataframe tbody tr th {\n        vertical-align: top;\n    }\n\n    .dataframe thead th {\n        text-align: right;\n    }\n</style>\n<table border=\"1\" class=\"dataframe\">\n  <thead>\n    <tr style=\"text-align: right;\">\n      <th></th>\n      <th>Vehicle</th>\n      <th>Operator</th>\n      <th>Year of First Launch</th>\n      <th>Total 2017 Launches</th>\n      <th>Active Launch Sites</th>\n      <th>Mass to LEO kg (lb)</th>\n      <th>Mass to SSO kg (lb)</th>\n      <th>Mass to GTO kg (lb)</th>\n      <th>Est Min Prce</th>\n      <th>Estimated Price per</th>\n    </tr>\n  </thead>\n  <tbody>\n    <tr>\n      <th>0</th>\n      <td>Antares</td>\n      <td>Orbital ATK</td>\n      <td>2013.0</td>\n      <td>1.0</td>\n      <td>MARS</td>\n      <td>3,500-7,000 (7,716-15,432)</td>\n      <td>2,100-3,400 (4,630-7,496)</td>\n      <td>N/A</td>\n      <td>$80,000,000.00</td>\n      <td>$85,000,000</td>\n    </tr>\n    <tr>\n      <th>1</th>\n      <td>Atlas V</td>\n      <td>ULA and LMCLS</td>\n      <td>2002.0</td>\n      <td>6.0</td>\n      <td>CCAFS-VAFB</td>\n      <td>8,123-18,814 (17,908-41,478)</td>\n      <td>6,424-15,179 (14,163-33,464)</td>\n      <td>3,460-8,900 (7,620-19,620)</td>\n      <td>$110,000,000.00</td>\n      <td>$230,000,000</td>\n    </tr>\n    <tr>\n      <th>2</th>\n      <td>Electron</td>\n      <td>Rocket Lab</td>\n      <td>2017.0</td>\n      <td>1.0</td>\n      <td>PSCA MAHIA . NZ</td>\n      <td>150 (331)</td>\n      <td>NaN</td>\n      <td>$4.9M</td>\n      <td>$164,000,000.00</td>\n      <td>$400,000,000</td>\n    </tr>\n    <tr>\n      <th>3</th>\n      <td>Falcon 9</td>\n      <td>SpaceX</td>\n      <td>2010.0</td>\n      <td>18.0</td>\n      <td>CCAFS-VAFB-KSC</td>\n      <td>13,150 (28,991)</td>\n      <td>NaN</td>\n      <td>4,850 (10,692)</td>\n      <td>$61,200,000</td>\n      <td>NaN</td>\n    </tr>\n    <tr>\n      <th>4</th>\n      <td>Minotaur-C</td>\n      <td>Orbital ATK</td>\n      <td>2017.0</td>\n      <td>1.0</td>\n      <td>CCAFS-MARS-VAFB-WFF</td>\n      <td>1,278-1,458 (2,814-3,214)</td>\n      <td>912-1,054 (2,008-2,324)</td>\n      <td>N/A</td>\n      <td>$40,000,000.00</td>\n      <td>$50,000,000</td>\n    </tr>\n    <tr>\n      <th>5</th>\n      <td>Pegasus XL</td>\n      <td>Orbital ATK</td>\n      <td>1994.0</td>\n      <td>0.0</td>\n      <td>CCAFS-KWAJALEIN-VAFB-WFF</td>\n      <td>450 (992)</td>\n      <td>325 (717)</td>\n      <td>N/A</td>\n      <td>$40,000,000</td>\n      <td>NaN</td>\n    </tr>\n    <tr>\n      <th>6</th>\n      <td>Aplha</td>\n      <td>Firefly Aerospace</td>\n      <td>NaN</td>\n      <td>NaN</td>\n      <td>NaN</td>\n      <td>1,000 (2,205)</td>\n      <td>650 (1,433)</td>\n      <td>N/A</td>\n      <td>$10,000,000</td>\n      <td>NaN</td>\n    </tr>\n    <tr>\n      <th>7</th>\n      <td>Cab-3A</td>\n      <td>CubeCeb</td>\n      <td>2017.0</td>\n      <td>NaN</td>\n      <td>NaN</td>\n      <td>5 (11)</td>\n      <td>NaN</td>\n      <td>N/A</td>\n      <td>$250,000</td>\n      <td>NaN</td>\n    </tr>\n    <tr>\n      <th>8</th>\n      <td>Falcon-Heavy</td>\n      <td>SpaceX</td>\n      <td>2017.0</td>\n      <td>NaN</td>\n      <td>KSC VAFB</td>\n      <td>63,800 (140,660)</td>\n      <td>NaN</td>\n      <td>26,700 (58,860)</td>\n      <td>$270,000,000</td>\n      <td>NaN</td>\n    </tr>\n    <tr>\n      <th>9</th>\n      <td>LauncherOne</td>\n      <td>Virgin Orbit</td>\n      <td>2017.0</td>\n      <td>NaN</td>\n      <td>Spaceport America</td>\n      <td>500 (1,102)</td>\n      <td>300 (661)</td>\n      <td>N/A</td>\n      <td>$10,000,000</td>\n      <td>NaN</td>\n    </tr>\n    <tr>\n      <th>10</th>\n      <td>New Glenn</td>\n      <td>Blue Origin</td>\n      <td>2020.0</td>\n      <td>NaN</td>\n      <td>CCAFS</td>\n      <td>45,000 (99,208)</td>\n      <td>NaN</td>\n      <td>13,000 (28,660)</td>\n      <td>NaN</td>\n      <td>NaN</td>\n    </tr>\n    <tr>\n      <th>11</th>\n      <td>NGL</td>\n      <td>Orbital ATK</td>\n      <td>2021.0</td>\n      <td>NaN</td>\n      <td>KSC, VAFB</td>\n      <td>NaN</td>\n      <td>NaN</td>\n      <td>8,500 (18,739)</td>\n      <td>NaN</td>\n      <td>NaN</td>\n    </tr>\n    <tr>\n      <th>12</th>\n      <td>Stratolaunch</td>\n      <td>Stratolaunch Systems</td>\n      <td>2018.0</td>\n      <td>NaN</td>\n      <td>Mojave KSC</td>\n      <td>3,000 (6,614)</td>\n      <td>1,400 (3,086)</td>\n      <td>N/A</td>\n      <td>NaN</td>\n      <td>NaN</td>\n    </tr>\n    <tr>\n      <th>13</th>\n      <td>Vector R/H</td>\n      <td>Vector Space Systems</td>\n      <td>2017.0</td>\n      <td>NaN</td>\n      <td>CCAFS PSCA</td>\n      <td>60-110 (132-243)</td>\n      <td>40-75 (88-165)</td>\n      <td>N/A</td>\n      <td>$3,000,000</td>\n      <td>NaN</td>\n    </tr>\n    <tr>\n      <th>14</th>\n      <td>Vulcan</td>\n      <td>ULA</td>\n      <td>2019.0</td>\n      <td>NaN</td>\n      <td>CCAFS VAFB</td>\n      <td>9,370-18,510 (20,657-40,510)</td>\n      <td>7,724-15,179 (17,029-33,464)</td>\n      <td>4,750-8,900 (10,472- 19,621) $</td>\n      <td>$85,000,000.00</td>\n      <td>$172,500,000</td>\n    </tr>\n  </tbody>\n</table>\n</div>"
     },
     "metadata": {},
     "execution_count": 13
    }
   ],
   "source": [
    "cost_data"
   ]
  },
  {
   "cell_type": "code",
   "execution_count": null,
   "metadata": {},
   "outputs": [],
   "source": []
  }
 ],
 "metadata": {
  "anaconda-cloud": {},
  "kernel_info": {
   "name": "python3"
  },
  "kernelspec": {
   "name": "python3",
   "display_name": "Python 3.8.5 64-bit ('base': conda)"
  },
  "language_info": {
   "codemirror_mode": {
    "name": "ipython",
    "version": 3
   },
   "file_extension": ".py",
   "mimetype": "text/x-python",
   "name": "python",
   "nbconvert_exporter": "python",
   "pygments_lexer": "ipython3",
   "version": "3.8.5"
  },
  "latex_envs": {
   "LaTeX_envs_menu_present": true,
   "autoclose": false,
   "autocomplete": true,
   "bibliofile": "biblio.bib",
   "cite_by": "apalike",
   "current_citInitial": 1,
   "eqLabelWithNumbers": true,
   "eqNumInitial": 1,
   "hotkeys": {
    "equation": "Ctrl-E",
    "itemize": "Ctrl-I"
   },
   "labels_anchors": false,
   "latex_user_defs": false,
   "report_style_numbering": false,
   "user_envs_cfg": false
  },
  "nteract": {
   "version": "0.8.4"
  },
  "interpreter": {
   "hash": "44f552b7dcb52bdbe1465ff40af8423e5e341aff9e1890574e0400d00cd728be"
  }
 },
 "nbformat": 4,
 "nbformat_minor": 1
}