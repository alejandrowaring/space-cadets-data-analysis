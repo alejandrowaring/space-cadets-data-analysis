{
 "metadata": {
  "language_info": {
   "codemirror_mode": {
    "name": "ipython",
    "version": 3
   },
   "file_extension": ".py",
   "mimetype": "text/x-python",
   "name": "python",
   "nbconvert_exporter": "python",
   "pygments_lexer": "ipython3",
   "version": "3.6.10"
  },
  "orig_nbformat": 4,
  "kernelspec": {
   "name": "python3",
   "display_name": "Python 3.6.10 64-bit ('PythonData': conda)"
  },
  "interpreter": {
   "hash": "7ad977b3003831861faae922bc1858cc569d7a1ac77f7557b38b5d7591900f20"
  }
 },
 "nbformat": 4,
 "nbformat_minor": 2,
 "cells": [
  {
   "cell_type": "code",
   "execution_count": 1,
   "metadata": {},
   "outputs": [],
   "source": [
    "import pandas as pd\n",
    "from matplotlib import pyplot as plt\n",
    "import os"
   ]
  },
  {
   "cell_type": "code",
   "execution_count": 15,
   "metadata": {},
   "outputs": [
    {
     "output_type": "execute_result",
     "data": {
      "text/plain": [
       "  Company Name                                           Location  \\\n",
       "0       SpaceX         LC-39A, Kennedy Space Center, Florida, USA   \n",
       "1        CASIC  Site 9401 (SLS-2), Jiuquan Satellite Launch Ce...   \n",
       "2       SpaceX                      Pad A, Boca Chica, Texas, USA   \n",
       "3    Roscosmos       Site 200/39, Baikonur Cosmodrome, Kazakhstan   \n",
       "4          ULA           SLC-41, Cape Canaveral AFS, Florida, USA   \n",
       "\n",
       "                                         Detail Status Rocket  Rocket  \\\n",
       "0  Falcon 9 Block 5 | Starlink V1 L9 & BlackSky  StatusActive   50.0    \n",
       "1           Long March 2D | Gaofen-9 04 & Q-SAT  StatusActive  29.75    \n",
       "2            Starship Prototype | 150 Meter Hop  StatusActive     NaN   \n",
       "3  Proton-M/Briz-M | Ekspress-80 & Ekspress-103  StatusActive   65.0    \n",
       "4                    Atlas V 541 | Perseverance  StatusActive  145.0    \n",
       "\n",
       "  Status Mission Country of Launch Companys Country of Origin  \\\n",
       "0        Success               USA                        USA   \n",
       "1        Success             China                      China   \n",
       "2        Success               USA                        USA   \n",
       "3        Success        Kazakhstan                     Russia   \n",
       "4        Success               USA                        USA   \n",
       "\n",
       "  Private or State Run                   DateTime  Year  Month  Day  \\\n",
       "0                    P  2020-08-07 05:12:00+00:00  2020      8    7   \n",
       "1                    S  2020-08-06 04:01:00+00:00  2020      8    6   \n",
       "2                    P  2020-08-04 23:57:00+00:00  2020      8    4   \n",
       "3                    S  2020-07-30 21:25:00+00:00  2020      7   30   \n",
       "4                    P  2020-07-30 11:50:00+00:00  2020      7   30   \n",
       "\n",
       "         Date   Time  \n",
       "0  07/08/2020  05:12  \n",
       "1  06/08/2020  04:01  \n",
       "2  04/08/2020  23:57  \n",
       "3  30/07/2020  21:25  \n",
       "4  30/07/2020  11:50  "
      ],
      "text/html": "<div>\n<style scoped>\n    .dataframe tbody tr th:only-of-type {\n        vertical-align: middle;\n    }\n\n    .dataframe tbody tr th {\n        vertical-align: top;\n    }\n\n    .dataframe thead th {\n        text-align: right;\n    }\n</style>\n<table border=\"1\" class=\"dataframe\">\n  <thead>\n    <tr style=\"text-align: right;\">\n      <th></th>\n      <th>Company Name</th>\n      <th>Location</th>\n      <th>Detail</th>\n      <th>Status Rocket</th>\n      <th>Rocket</th>\n      <th>Status Mission</th>\n      <th>Country of Launch</th>\n      <th>Companys Country of Origin</th>\n      <th>Private or State Run</th>\n      <th>DateTime</th>\n      <th>Year</th>\n      <th>Month</th>\n      <th>Day</th>\n      <th>Date</th>\n      <th>Time</th>\n    </tr>\n  </thead>\n  <tbody>\n    <tr>\n      <th>0</th>\n      <td>SpaceX</td>\n      <td>LC-39A, Kennedy Space Center, Florida, USA</td>\n      <td>Falcon 9 Block 5 | Starlink V1 L9 &amp; BlackSky</td>\n      <td>StatusActive</td>\n      <td>50.0</td>\n      <td>Success</td>\n      <td>USA</td>\n      <td>USA</td>\n      <td>P</td>\n      <td>2020-08-07 05:12:00+00:00</td>\n      <td>2020</td>\n      <td>8</td>\n      <td>7</td>\n      <td>07/08/2020</td>\n      <td>05:12</td>\n    </tr>\n    <tr>\n      <th>1</th>\n      <td>CASIC</td>\n      <td>Site 9401 (SLS-2), Jiuquan Satellite Launch Ce...</td>\n      <td>Long March 2D | Gaofen-9 04 &amp; Q-SAT</td>\n      <td>StatusActive</td>\n      <td>29.75</td>\n      <td>Success</td>\n      <td>China</td>\n      <td>China</td>\n      <td>S</td>\n      <td>2020-08-06 04:01:00+00:00</td>\n      <td>2020</td>\n      <td>8</td>\n      <td>6</td>\n      <td>06/08/2020</td>\n      <td>04:01</td>\n    </tr>\n    <tr>\n      <th>2</th>\n      <td>SpaceX</td>\n      <td>Pad A, Boca Chica, Texas, USA</td>\n      <td>Starship Prototype | 150 Meter Hop</td>\n      <td>StatusActive</td>\n      <td>NaN</td>\n      <td>Success</td>\n      <td>USA</td>\n      <td>USA</td>\n      <td>P</td>\n      <td>2020-08-04 23:57:00+00:00</td>\n      <td>2020</td>\n      <td>8</td>\n      <td>4</td>\n      <td>04/08/2020</td>\n      <td>23:57</td>\n    </tr>\n    <tr>\n      <th>3</th>\n      <td>Roscosmos</td>\n      <td>Site 200/39, Baikonur Cosmodrome, Kazakhstan</td>\n      <td>Proton-M/Briz-M | Ekspress-80 &amp; Ekspress-103</td>\n      <td>StatusActive</td>\n      <td>65.0</td>\n      <td>Success</td>\n      <td>Kazakhstan</td>\n      <td>Russia</td>\n      <td>S</td>\n      <td>2020-07-30 21:25:00+00:00</td>\n      <td>2020</td>\n      <td>7</td>\n      <td>30</td>\n      <td>30/07/2020</td>\n      <td>21:25</td>\n    </tr>\n    <tr>\n      <th>4</th>\n      <td>ULA</td>\n      <td>SLC-41, Cape Canaveral AFS, Florida, USA</td>\n      <td>Atlas V 541 | Perseverance</td>\n      <td>StatusActive</td>\n      <td>145.0</td>\n      <td>Success</td>\n      <td>USA</td>\n      <td>USA</td>\n      <td>P</td>\n      <td>2020-07-30 11:50:00+00:00</td>\n      <td>2020</td>\n      <td>7</td>\n      <td>30</td>\n      <td>30/07/2020</td>\n      <td>11:50</td>\n    </tr>\n  </tbody>\n</table>\n</div>"
     },
     "metadata": {},
     "execution_count": 15
    }
   ],
   "source": [
    "resource_dir = os.path.join('.','resources')\n",
    "\n",
    "df = pd.read_csv(os.path.join(f'{resource_dir}','global_space_launches.csv'))\n",
    "df.head()"
   ]
  },
  {
   "cell_type": "code",
   "execution_count": 21,
   "metadata": {},
   "outputs": [
    {
     "output_type": "execute_result",
     "data": {
      "text/plain": [
       "       Company Name                                           Location  \\\n",
       "0     Arme de l'Air               Brigitte, Hammaguir, Algeria, France   \n",
       "1     Arme de l'Air               Brigitte, Hammaguir, Algeria, France   \n",
       "2     Arme de l'Air               Brigitte, Hammaguir, Algeria, France   \n",
       "3     Arme de l'Air               Brigitte, Hammaguir, Algeria, France   \n",
       "4               AEB  VLS Pad, Alc?›ntara Launch Center, Maranh?œo, ...   \n",
       "...             ...                                                ...   \n",
       "4319       Northrop         Stargazer, Vandenberg AFB, California, USA   \n",
       "4320        OKB-586        Site 41/15, Baikonur Cosmodrome, Kazakhstan   \n",
       "4321        OKB-586        Site 41/15, Baikonur Cosmodrome, Kazakhstan   \n",
       "4322       Yuzhmash             Site 32/2, Plesetsk Cosmodrome, Russia   \n",
       "4323       Yuzhmash        Site 90/20, Baikonur Cosmodrome, Kazakhstan   \n",
       "\n",
       "                                     Detail  Status Rocket  Rocket  \\\n",
       "0                    Diamant A | Diad?ªme 2  StatusRetired     NaN   \n",
       "1                    Diamant A | Diad?ªme 1  StatusRetired     NaN   \n",
       "2                      Diamant A | Diapason  StatusRetired     NaN   \n",
       "3                      Diamant A | Ast??rix  StatusRetired     NaN   \n",
       "4                            VLS-1 | SACI-2   StatusActive     NaN   \n",
       "...                                     ...            ...     ...   \n",
       "4319                      Pegasus XL | WIRE   StatusActive   40.0    \n",
       "4320                 Cosmos-3 (11K65) | VKZ  StatusRetired     NaN   \n",
       "4321                 Cosmos-3 (11K65) | VKZ  StatusRetired     NaN   \n",
       "4322  Tsyklon-3 | Intercosmos 25 & Magion 3  StatusRetired     NaN   \n",
       "4323              Tsyklon-2 | IS Mass Model  StatusRetired     NaN   \n",
       "\n",
       "       Status Mission Country of Launch Companys Country of Origin  \\\n",
       "0             Success            France              Arme de l'Air   \n",
       "1     Partial Failure            France              Arme de l'Air   \n",
       "2             Success            France              Arme de l'Air   \n",
       "3             Success            France              Arme de l'Air   \n",
       "4             Failure            Brazil                     Brazil   \n",
       "...               ...               ...                        ...   \n",
       "4319          Success               USA                        USA   \n",
       "4320          Success        Kazakhstan                    Ukraine   \n",
       "4321          Success        Kazakhstan                    Ukraine   \n",
       "4322          Success            Russia                    Ukraine   \n",
       "4323          Success        Kazakhstan                    Ukraine   \n",
       "\n",
       "     Private or State Run                   DateTime  Year  Month  Day  \\\n",
       "0                       S  1967-02-15 10:06:00+00:00  1967      2   15   \n",
       "1                       S  1967-02-08 08:39:00+00:00  1967      2    8   \n",
       "2                       S  1966-02-17 07:33:00+00:00  1966      2   17   \n",
       "3                       S  1965-11-26 14:47:00+00:00  1965     11   26   \n",
       "4                       S  1999-12-11 19:40:00+00:00  1999     12   11   \n",
       "...                   ...                        ...   ...    ...  ...   \n",
       "4319                    P  1999-03-05 02:56:00+00:00  1999      3    5   \n",
       "4320                    S  1968-03-28 00:00:00+00:00  1968      3   28   \n",
       "4321                    S  1967-10-12 14:15:00+00:00  1967     10   12   \n",
       "4322                    S  1991-12-18 03:54:00+00:00  1991     12   18   \n",
       "4323                    S  1969-11-01 10:59:00+00:00  1969     11    1   \n",
       "\n",
       "            Date   Time  \n",
       "0     15/02/1967  10:06  \n",
       "1     08/02/1967  08:39  \n",
       "2     17/02/1966  07:33  \n",
       "3     26/11/1965  14:47  \n",
       "4     11/12/1999  19:40  \n",
       "...          ...    ...  \n",
       "4319  05/03/1999  02:56  \n",
       "4320  28/03/1968  00:00  \n",
       "4321  12/10/1967  14:15  \n",
       "4322  18/12/1991  03:54  \n",
       "4323  01/11/1969  10:59  \n",
       "\n",
       "[4324 rows x 15 columns]"
      ],
      "text/html": "<div>\n<style scoped>\n    .dataframe tbody tr th:only-of-type {\n        vertical-align: middle;\n    }\n\n    .dataframe tbody tr th {\n        vertical-align: top;\n    }\n\n    .dataframe thead th {\n        text-align: right;\n    }\n</style>\n<table border=\"1\" class=\"dataframe\">\n  <thead>\n    <tr style=\"text-align: right;\">\n      <th></th>\n      <th>Company Name</th>\n      <th>Location</th>\n      <th>Detail</th>\n      <th>Status Rocket</th>\n      <th>Rocket</th>\n      <th>Status Mission</th>\n      <th>Country of Launch</th>\n      <th>Companys Country of Origin</th>\n      <th>Private or State Run</th>\n      <th>DateTime</th>\n      <th>Year</th>\n      <th>Month</th>\n      <th>Day</th>\n      <th>Date</th>\n      <th>Time</th>\n    </tr>\n  </thead>\n  <tbody>\n    <tr>\n      <th>0</th>\n      <td>Arme de l'Air</td>\n      <td>Brigitte, Hammaguir, Algeria, France</td>\n      <td>Diamant A | Diad?ªme 2</td>\n      <td>StatusRetired</td>\n      <td>NaN</td>\n      <td>Success</td>\n      <td>France</td>\n      <td>Arme de l'Air</td>\n      <td>S</td>\n      <td>1967-02-15 10:06:00+00:00</td>\n      <td>1967</td>\n      <td>2</td>\n      <td>15</td>\n      <td>15/02/1967</td>\n      <td>10:06</td>\n    </tr>\n    <tr>\n      <th>1</th>\n      <td>Arme de l'Air</td>\n      <td>Brigitte, Hammaguir, Algeria, France</td>\n      <td>Diamant A | Diad?ªme 1</td>\n      <td>StatusRetired</td>\n      <td>NaN</td>\n      <td>Partial Failure</td>\n      <td>France</td>\n      <td>Arme de l'Air</td>\n      <td>S</td>\n      <td>1967-02-08 08:39:00+00:00</td>\n      <td>1967</td>\n      <td>2</td>\n      <td>8</td>\n      <td>08/02/1967</td>\n      <td>08:39</td>\n    </tr>\n    <tr>\n      <th>2</th>\n      <td>Arme de l'Air</td>\n      <td>Brigitte, Hammaguir, Algeria, France</td>\n      <td>Diamant A | Diapason</td>\n      <td>StatusRetired</td>\n      <td>NaN</td>\n      <td>Success</td>\n      <td>France</td>\n      <td>Arme de l'Air</td>\n      <td>S</td>\n      <td>1966-02-17 07:33:00+00:00</td>\n      <td>1966</td>\n      <td>2</td>\n      <td>17</td>\n      <td>17/02/1966</td>\n      <td>07:33</td>\n    </tr>\n    <tr>\n      <th>3</th>\n      <td>Arme de l'Air</td>\n      <td>Brigitte, Hammaguir, Algeria, France</td>\n      <td>Diamant A | Ast??rix</td>\n      <td>StatusRetired</td>\n      <td>NaN</td>\n      <td>Success</td>\n      <td>France</td>\n      <td>Arme de l'Air</td>\n      <td>S</td>\n      <td>1965-11-26 14:47:00+00:00</td>\n      <td>1965</td>\n      <td>11</td>\n      <td>26</td>\n      <td>26/11/1965</td>\n      <td>14:47</td>\n    </tr>\n    <tr>\n      <th>4</th>\n      <td>AEB</td>\n      <td>VLS Pad, Alc?›ntara Launch Center, Maranh?œo, ...</td>\n      <td>VLS-1 | SACI-2</td>\n      <td>StatusActive</td>\n      <td>NaN</td>\n      <td>Failure</td>\n      <td>Brazil</td>\n      <td>Brazil</td>\n      <td>S</td>\n      <td>1999-12-11 19:40:00+00:00</td>\n      <td>1999</td>\n      <td>12</td>\n      <td>11</td>\n      <td>11/12/1999</td>\n      <td>19:40</td>\n    </tr>\n    <tr>\n      <th>...</th>\n      <td>...</td>\n      <td>...</td>\n      <td>...</td>\n      <td>...</td>\n      <td>...</td>\n      <td>...</td>\n      <td>...</td>\n      <td>...</td>\n      <td>...</td>\n      <td>...</td>\n      <td>...</td>\n      <td>...</td>\n      <td>...</td>\n      <td>...</td>\n      <td>...</td>\n    </tr>\n    <tr>\n      <th>4319</th>\n      <td>Northrop</td>\n      <td>Stargazer, Vandenberg AFB, California, USA</td>\n      <td>Pegasus XL | WIRE</td>\n      <td>StatusActive</td>\n      <td>40.0</td>\n      <td>Success</td>\n      <td>USA</td>\n      <td>USA</td>\n      <td>P</td>\n      <td>1999-03-05 02:56:00+00:00</td>\n      <td>1999</td>\n      <td>3</td>\n      <td>5</td>\n      <td>05/03/1999</td>\n      <td>02:56</td>\n    </tr>\n    <tr>\n      <th>4320</th>\n      <td>OKB-586</td>\n      <td>Site 41/15, Baikonur Cosmodrome, Kazakhstan</td>\n      <td>Cosmos-3 (11K65) | VKZ</td>\n      <td>StatusRetired</td>\n      <td>NaN</td>\n      <td>Success</td>\n      <td>Kazakhstan</td>\n      <td>Ukraine</td>\n      <td>S</td>\n      <td>1968-03-28 00:00:00+00:00</td>\n      <td>1968</td>\n      <td>3</td>\n      <td>28</td>\n      <td>28/03/1968</td>\n      <td>00:00</td>\n    </tr>\n    <tr>\n      <th>4321</th>\n      <td>OKB-586</td>\n      <td>Site 41/15, Baikonur Cosmodrome, Kazakhstan</td>\n      <td>Cosmos-3 (11K65) | VKZ</td>\n      <td>StatusRetired</td>\n      <td>NaN</td>\n      <td>Success</td>\n      <td>Kazakhstan</td>\n      <td>Ukraine</td>\n      <td>S</td>\n      <td>1967-10-12 14:15:00+00:00</td>\n      <td>1967</td>\n      <td>10</td>\n      <td>12</td>\n      <td>12/10/1967</td>\n      <td>14:15</td>\n    </tr>\n    <tr>\n      <th>4322</th>\n      <td>Yuzhmash</td>\n      <td>Site 32/2, Plesetsk Cosmodrome, Russia</td>\n      <td>Tsyklon-3 | Intercosmos 25 &amp; Magion 3</td>\n      <td>StatusRetired</td>\n      <td>NaN</td>\n      <td>Success</td>\n      <td>Russia</td>\n      <td>Ukraine</td>\n      <td>S</td>\n      <td>1991-12-18 03:54:00+00:00</td>\n      <td>1991</td>\n      <td>12</td>\n      <td>18</td>\n      <td>18/12/1991</td>\n      <td>03:54</td>\n    </tr>\n    <tr>\n      <th>4323</th>\n      <td>Yuzhmash</td>\n      <td>Site 90/20, Baikonur Cosmodrome, Kazakhstan</td>\n      <td>Tsyklon-2 | IS Mass Model</td>\n      <td>StatusRetired</td>\n      <td>NaN</td>\n      <td>Success</td>\n      <td>Kazakhstan</td>\n      <td>Ukraine</td>\n      <td>S</td>\n      <td>1969-11-01 10:59:00+00:00</td>\n      <td>1969</td>\n      <td>11</td>\n      <td>1</td>\n      <td>01/11/1969</td>\n      <td>10:59</td>\n    </tr>\n  </tbody>\n</table>\n<p>4324 rows × 15 columns</p>\n</div>"
     },
     "metadata": {},
     "execution_count": 21
    }
   ],
   "source": [
    "list_countries = df['Companys Country of Origin'].unique()\n",
    "\n",
    "df.sort_values(by='Companys Country of Origin').reset_index(drop=True)"
   ]
  },
  {
   "cell_type": "code",
   "execution_count": null,
   "metadata": {},
   "outputs": [],
   "source": []
  }
 ]
}